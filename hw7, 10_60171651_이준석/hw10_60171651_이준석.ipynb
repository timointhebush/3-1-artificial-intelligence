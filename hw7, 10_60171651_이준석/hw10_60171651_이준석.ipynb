{
 "metadata": {
  "language_info": {
   "codemirror_mode": {
    "name": "ipython",
    "version": 3
   },
   "file_extension": ".py",
   "mimetype": "text/x-python",
   "name": "python",
   "nbconvert_exporter": "python",
   "pygments_lexer": "ipython3",
   "version": "3.9.1"
  },
  "orig_nbformat": 2,
  "kernelspec": {
   "name": "python3",
   "display_name": "Python 3",
   "language": "python"
  }
 },
 "nbformat": 4,
 "nbformat_minor": 2,
 "cells": [
  {
   "source": [
    "# Artificial Intelligence HW 10\n",
    "60171651 이준석  \n",
    "1. 강의시간에 활용했던 영화평(English text data) 데이터를 사용하여 다음에 해당하는 코드를 작성하시오."
   ],
   "cell_type": "markdown",
   "metadata": {}
  },
  {
   "source": [
    "(a) 영화평 데이터 파일을 load_files를 사용하여 train data와 test data로 분리하여 loading 하고, 모델 학습을 위 해, train data와 test data를 각각 data와 label로 분리하시오."
   ],
   "cell_type": "markdown",
   "metadata": {}
  },
  {
   "cell_type": "code",
   "execution_count": 1,
   "metadata": {},
   "outputs": [],
   "source": [
    "# 필요한 메소드 임포트\n",
    "from sklearn.datasets import load_files\n",
    "from sklearn.feature_extraction.text import CountVectorizer\n",
    "from sklearn.metrics import accuracy_score\n",
    "from sklearn.ensemble import RandomForestClassifier\n",
    "import numpy as np"
   ]
  },
  {
   "cell_type": "code",
   "execution_count": 2,
   "metadata": {},
   "outputs": [],
   "source": [
    "# train데이터 불러오기\n",
    "reviews_train = load_files('aclImdb/train')\n",
    "text_train, y_train = reviews_train.data, reviews_train.target"
   ]
  },
  {
   "cell_type": "code",
   "execution_count": 3,
   "metadata": {},
   "outputs": [],
   "source": [
    "# test데이터 불러오기\n",
    "reviews_test = load_files('aclImdb/test')\n",
    "text_test, y_test = reviews_test.data, reviews_test.target"
   ]
  },
  {
   "source": [
    "(b) 모델의 성능을 향상시키기 위해, text data중에서 `<br />`를 삭제하고 삭제 전 후 test data의 일부를 출력하\n",
    "고 비교 및 설명하시오."
   ],
   "cell_type": "markdown",
   "metadata": {}
  },
  {
   "cell_type": "code",
   "execution_count": 4,
   "metadata": {},
   "outputs": [
    {
     "output_type": "stream",
     "name": "stdout",
     "text": [
      "삭제하기 전 : \n b\"In August Days/Dies d'agost Marc Recha has given us a sun-saturated Catalan documentary-style road movie that's mostly a meandering improvised meditation on brotherhood and reclaiming the dead. The beautiful sometimes large-scale, richly atmospheric 35 mm. landscape images, nice soundtrack and Catalan-language narration are enchanting as a mood piece, if one is content with a trajectory that hasn't much momentum and doesn't lead anywhere in particular. Filmmaker Marc Recha and his non-identical twin David are the stars and the narrative is voiced by their younger sister. Marc had been researching the life of Ramon Barnils (1940-2001), a socialist editor who had been a family friend. He felt he was saturated with information and had to take a break. The break turned into making this film, which seeks to capture the mood of the interviews with Barnils' associates, thoughts about the Spanish Civil War, the drought season they were experiencing, the rugged landscape, the Recha brothers' affection for each other, swims and suntanned nudity and whatever characters or stories they ran into as they camped out of their van. This leads to pursuit of a giant catfish and the temporary disappearance of one of the brothers. In the end David has to go back to Barcelona to be with his daughter and Marc has to return to his project, and there it ends. I found it fascinating to listen to an extended narration in the Catalan language with its blend of Spanish and French-sounding words (perhaps linked with Proven\\xc3\\xa7al?). This isn't a major film but it commands attention and makes sense as a film festival choice with its clean visual and auditory beauty and its way of playing around with genres and blending autobiography with fiction and documentary in a fresh and thought-provoking way.<br /><br />An official selection of the 2006 New York Film Festival at Lincoln Center.\"\n"
     ]
    }
   ],
   "source": [
    "print('삭제하기 전 : \\n', text_test[78])"
   ]
  },
  {
   "cell_type": "code",
   "execution_count": 5,
   "metadata": {},
   "outputs": [],
   "source": [
    "# text data의 <br />를 replace함수를 통해 삭제.\n",
    "text_train = [doc.replace(b\"<br />\", b\" \") for doc in text_train]\n",
    "text_test = [doc.replace(b\"<br />\", b\" \") for doc in text_test]"
   ]
  },
  {
   "cell_type": "code",
   "execution_count": 6,
   "metadata": {},
   "outputs": [
    {
     "output_type": "stream",
     "name": "stdout",
     "text": [
      "삭제 후 : \n b\"In August Days/Dies d'agost Marc Recha has given us a sun-saturated Catalan documentary-style road movie that's mostly a meandering improvised meditation on brotherhood and reclaiming the dead. The beautiful sometimes large-scale, richly atmospheric 35 mm. landscape images, nice soundtrack and Catalan-language narration are enchanting as a mood piece, if one is content with a trajectory that hasn't much momentum and doesn't lead anywhere in particular. Filmmaker Marc Recha and his non-identical twin David are the stars and the narrative is voiced by their younger sister. Marc had been researching the life of Ramon Barnils (1940-2001), a socialist editor who had been a family friend. He felt he was saturated with information and had to take a break. The break turned into making this film, which seeks to capture the mood of the interviews with Barnils' associates, thoughts about the Spanish Civil War, the drought season they were experiencing, the rugged landscape, the Recha brothers' affection for each other, swims and suntanned nudity and whatever characters or stories they ran into as they camped out of their van. This leads to pursuit of a giant catfish and the temporary disappearance of one of the brothers. In the end David has to go back to Barcelona to be with his daughter and Marc has to return to his project, and there it ends. I found it fascinating to listen to an extended narration in the Catalan language with its blend of Spanish and French-sounding words (perhaps linked with Proven\\xc3\\xa7al?). This isn't a major film but it commands attention and makes sense as a film festival choice with its clean visual and auditory beauty and its way of playing around with genres and blending autobiography with fiction and documentary in a fresh and thought-provoking way.  An official selection of the 2006 New York Film Festival at Lincoln Center.\"\n"
     ]
    }
   ],
   "source": [
    "# 삭제 후 비교를 위해 같은 index에 위치한 text를 print\n",
    "print('삭제 후 : \\n', text_test[78])"
   ]
  },
  {
   "source": [
    "삭제하기 전, 후의 text data의 index78의 text를 비교하면 차이를 알 수 있다. 삭제하기 전 데이터가 담겨있는 `text_data[78]`의 마지막 문장을 보면, 문장 앞에 `<br /><br />`가 존재하는 것을 확인할 수 있다. 하지만 replace를 수행한 후 `text_data[78]`의 마지막 문장을 보면 존재하지 않는 것을 확인할 수 있다."
   ],
   "cell_type": "markdown",
   "metadata": {}
  },
  {
   "source": [
    "(c) CountVectorizer를 사용하여 학습 데이터에 대한 BOW를 생성하고 built-in English stopword list를 사용하여 불용어를 제거하시오."
   ],
   "cell_type": "markdown",
   "metadata": {}
  },
  {
   "cell_type": "code",
   "execution_count": 7,
   "metadata": {},
   "outputs": [],
   "source": [
    "# stop_words='english'를 통해 built-in English stopword list를 사용\n",
    "vect = CountVectorizer(stop_words='english').fit(text_train)\n",
    "# transform을 통해 BOW생성. sparse matrix의 형태.\n",
    "# sparse matrix형태의 X_train을 toarray()메소드를 통해 변경\n",
    "X_train = vect.transform(text_train)\n",
    "X_train = X_train.toarray()"
   ]
  },
  {
   "source": [
    "(d) Random Forest 방식을 사용하여 분류 모델을 train 시키고, 이를 이용하여 prediction을 실행하고 코드의 실\n",
    "행 시간과 정답률을 출력하시오. (5점)\n",
    "- 단, Random Forest Classifier의 base classifier 정답률이 0.5 이상임을 보이기 위한 코드와 이에 대한 출력\n",
    "결과를 포함하여야 함 (n_estimators parameter 사용). - 정답률과 실행 시간은 소수점 둘째자리에서 반올림하여야 함. "
   ],
   "cell_type": "markdown",
   "metadata": {}
  },
  {
   "cell_type": "code",
   "execution_count": 8,
   "metadata": {},
   "outputs": [
    {
     "output_type": "execute_result",
     "data": {
      "text/plain": [
       "RandomForestClassifier(n_estimators=10)"
      ]
     },
     "metadata": {},
     "execution_count": 8
    }
   ],
   "source": [
    "# RandomFOrestClassifier객체 생성, fit 수행\n",
    "model = RandomForestClassifier(n_estimators=10)\n",
    "model.fit(X_train, y_train)"
   ]
  },
  {
   "cell_type": "code",
   "execution_count": 9,
   "metadata": {},
   "outputs": [],
   "source": [
    "# test데이터 또한 transform, toarray() 수행\n",
    "X_test = vect.transform(text_test)\n",
    "X_test = X_test.toarray()"
   ]
  },
  {
   "cell_type": "code",
   "execution_count": 10,
   "metadata": {},
   "outputs": [],
   "source": [
    "# 코드 실행 시간 측정을 위해 time 임포트\n",
    "import time"
   ]
  },
  {
   "cell_type": "code",
   "execution_count": 18,
   "metadata": {},
   "outputs": [],
   "source": [
    "# prediction실행과 코드의 실행 시간 측정.\n",
    "start = time.time()\n",
    "pred = model.predict(X_test)\n",
    "exe_time = time.time() - start"
   ]
  },
  {
   "cell_type": "code",
   "execution_count": 19,
   "metadata": {},
   "outputs": [
    {
     "output_type": "stream",
     "name": "stdout",
     "text": [
      "정답률 : 0.77\n실행 시간 : 56.64\n"
     ]
    }
   ],
   "source": [
    "print('정답률 : {:.2f}'.format(accuracy_score(y_test, pred)))\n",
    "print('실행 시간 : {:.2f}'.format(exe_time))"
   ]
  },
  {
   "cell_type": "code",
   "execution_count": 13,
   "metadata": {},
   "outputs": [
    {
     "output_type": "stream",
     "name": "stdout",
     "text": [
      "0번 classifier 정답률 : 0.65\n",
      "1번 classifier 정답률 : 0.64\n",
      "2번 classifier 정답률 : 0.66\n",
      "3번 classifier 정답률 : 0.65\n",
      "4번 classifier 정답률 : 0.66\n",
      "5번 classifier 정답률 : 0.65\n",
      "6번 classifier 정답률 : 0.65\n",
      "7번 classifier 정답률 : 0.66\n",
      "8번 classifier 정답률 : 0.66\n",
      "9번 classifier 정답률 : 0.66\n"
     ]
    }
   ],
   "source": [
    "# Random Forest Classifier의 base classifier 정답률이 0.5 이상임을 확인하기 위한 코드\n",
    "# base classifier들을 list에 저장한 뒤, for 문으로 각 각의 정답률을 저장 및 출력\n",
    "base_classifier = model.estimators_\n",
    "for i, classifier in enumerate(base_classifier):\n",
    "    base_pred = classifier.predict(X_test)\n",
    "    base_accuracy = accuracy_score(y_test, base_pred)\n",
    "    print('{0}번 classifier 정답률 : {1:.2f}'.format(i, base_accuracy))"
   ]
  },
  {
   "source": [
    "(e) 기타 모델의 정확도를 향상시키기 위한 시도를 해보고, 이에 대한 결과를 보고서에 포함하여 제출하시오. "
   ],
   "cell_type": "markdown",
   "metadata": {}
  },
  {
   "source": [
    "이전 모델에서 결정트리의 개수는 10개이다. 모델의 정확도를 향상시키기 위해 결정 트리의 개수를 20으로 증가시킨다. "
   ],
   "cell_type": "markdown",
   "metadata": {}
  },
  {
   "cell_type": "code",
   "execution_count": 14,
   "metadata": {},
   "outputs": [
    {
     "output_type": "execute_result",
     "data": {
      "text/plain": [
       "RandomForestClassifier(n_estimators=20)"
      ]
     },
     "metadata": {},
     "execution_count": 14
    }
   ],
   "source": [
    "# 결정 트리의 개수를 증가시키기 위해 n_estimators=20으로 설정.\n",
    "model2 = RandomForestClassifier(n_estimators=20)\n",
    "model2.fit(X_train, y_train)"
   ]
  },
  {
   "cell_type": "code",
   "execution_count": 15,
   "metadata": {},
   "outputs": [],
   "source": [
    "# 위와 동일하게 실행 시간 측정\n",
    "start = time.time()\n",
    "pred2 = model2.predict(X_test)\n",
    "exe_time2 = time.time() - start"
   ]
  },
  {
   "cell_type": "code",
   "execution_count": 20,
   "metadata": {},
   "outputs": [
    {
     "output_type": "stream",
     "name": "stdout",
     "text": [
      "estimator 개수를 늘린 모델 정답률 : 0.81\n실행 시간 : 92.16\n"
     ]
    }
   ],
   "source": [
    "# 이전 모델의 정답률이 0.77인것에 비해 0.81로 상승.\n",
    "# 결정 트리의 개수가 늘어난 만큼 실행 시간 역시 상승.\n",
    "print('estimator 개수를 늘린 모델 정답률 : {:.2f}'.format(accuracy_score(y_test, pred2)))\n",
    "print('실행 시간 : {:.2f}'.format(exe_time2))"
   ]
  }
 ]
}